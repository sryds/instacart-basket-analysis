{
 "cells": [
  {
   "cell_type": "code",
   "execution_count": 1,
   "id": "7285d59a-7eb9-45f9-b28d-0c0f8342bbe1",
   "metadata": {},
   "outputs": [],
   "source": [
    "#import libraries\n",
    "import pandas as pd\n",
    "import numpy as np\n",
    "import os"
   ]
  },
  {
   "cell_type": "code",
   "execution_count": 2,
   "id": "857b4c15-d4ec-4bd2-8ce0-719b467df341",
   "metadata": {},
   "outputs": [],
   "source": [
    "#assign path\n",
    "path = r'C:\\Users\\artoe\\Documents\\DataAnalytics\\Data Immersion\\Exercises\\Achievement 4\\Instacart Basket Analysis'"
   ]
  },
  {
   "cell_type": "code",
   "execution_count": 3,
   "id": "c3a8eff9-b2bc-4dd5-be38-e9b2ca0696b7",
   "metadata": {},
   "outputs": [],
   "source": [
    "#import customers and ords_prods_merge datasets\n",
    "df_customers = pd.read_csv(os.path.join(path, '02 Data', 'Prepared Data', 'customers_cleaned.csv'), index_col = False)"
   ]
  },
  {
   "cell_type": "code",
   "execution_count": 4,
   "id": "b135389e-b69f-4ce5-bb65-f17154241a6f",
   "metadata": {},
   "outputs": [],
   "source": [
    "ords_prods_merge = pd.read_pickle(os.path.join(path, '02 Data', 'Prepared Data', 'orders_products_merged_flagged.pkl'))"
   ]
  },
  {
   "cell_type": "code",
   "execution_count": 5,
   "id": "eea947df-775a-4581-9577-b4e7af7f2a42",
   "metadata": {},
   "outputs": [],
   "source": [
    "#merging both datasets on user_id column\n",
    "ords_prods_customers = ords_prods_merge.merge(df_customers, on='user_id', indicator=True)"
   ]
  },
  {
   "cell_type": "code",
   "execution_count": 6,
   "id": "5186eab9-3ba4-4c4d-abc4-7930127a26a9",
   "metadata": {},
   "outputs": [
    {
     "name": "stdout",
     "output_type": "stream",
     "text": [
      "<class 'pandas.core.frame.DataFrame'>\n",
      "RangeIndex: 32399732 entries, 0 to 32399731\n",
      "Data columns (total 36 columns):\n",
      " #   Column                      Dtype   \n",
      "---  ------                      -----   \n",
      " 0   order_id                    int64   \n",
      " 1   user_id                     int64   \n",
      " 2   eval_set                    object  \n",
      " 3   order_number                int64   \n",
      " 4   orders_day_of_week          int64   \n",
      " 5   order_hour_of_day           int64   \n",
      " 6   days_since_prior_order      float64 \n",
      " 7   product_id                  int64   \n",
      " 8   add_to_cart_order           int64   \n",
      " 9   reordered                   int64   \n",
      " 10  product_name                object  \n",
      " 11  aisle_id                    int64   \n",
      " 12  department_id               int64   \n",
      " 13  prices                      float64 \n",
      " 14  match                       category\n",
      " 15  price_range_loc             object  \n",
      " 16  busiest_day                 object  \n",
      " 17  busiest_days                object  \n",
      " 18  busiest_period_of_day       object  \n",
      " 19  max_order                   int64   \n",
      " 20  loyalty_flag                object  \n",
      " 21  avg_prod_price              float64 \n",
      " 22  spending_flag               object  \n",
      " 23  avg_days_since_prior_order  float64 \n",
      " 24  orderfreq_flag              object  \n",
      " 25  Unnamed: 0                  int64   \n",
      " 26  first_name                  object  \n",
      " 27  surname                     object  \n",
      " 28  gender                      object  \n",
      " 29  state                       object  \n",
      " 30  age                         int64   \n",
      " 31  date_joined                 object  \n",
      " 32  n_dependants                int64   \n",
      " 33  fam_status                  object  \n",
      " 34  income                      int64   \n",
      " 35  _merge                      category\n",
      "dtypes: category(2), float64(4), int64(15), object(15)\n",
      "memory usage: 8.3+ GB\n"
     ]
    }
   ],
   "source": [
    "#check results of merge\n",
    "ords_prods_customers.info()"
   ]
  },
  {
   "cell_type": "code",
   "execution_count": 7,
   "id": "8b2b3e9c-67a4-4df3-b341-99c7e7f5d5f4",
   "metadata": {},
   "outputs": [
    {
     "data": {
      "text/plain": [
       "_merge\n",
       "both          32399732\n",
       "left_only            0\n",
       "right_only           0\n",
       "Name: count, dtype: int64"
      ]
     },
     "execution_count": 7,
     "metadata": {},
     "output_type": "execute_result"
    }
   ],
   "source": [
    "ords_prods_customers['_merge'].value_counts()"
   ]
  },
  {
   "cell_type": "code",
   "execution_count": null,
   "id": "9e5f20db-e5ca-4eb8-ace5-6c214243b757",
   "metadata": {},
   "outputs": [],
   "source": [
    "#export ords_prods_customers as pkl file\n",
    "ords_prods_customers.to_pickle(os.path.join(path, '02 Data','Prepared Data', 'ords_prods_customers.pkl'))"
   ]
  },
  {
   "cell_type": "code",
   "execution_count": null,
   "id": "582bb0c7-4830-4ead-a9f5-a503d0c43ce2",
   "metadata": {},
   "outputs": [],
   "source": []
  }
 ],
 "metadata": {
  "kernelspec": {
   "display_name": "Python 3 (ipykernel)",
   "language": "python",
   "name": "python3"
  },
  "language_info": {
   "codemirror_mode": {
    "name": "ipython",
    "version": 3
   },
   "file_extension": ".py",
   "mimetype": "text/x-python",
   "name": "python",
   "nbconvert_exporter": "python",
   "pygments_lexer": "ipython3",
   "version": "3.12.7"
  }
 },
 "nbformat": 4,
 "nbformat_minor": 5
}
