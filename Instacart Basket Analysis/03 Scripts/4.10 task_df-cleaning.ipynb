{
 "cells": [
  {
   "cell_type": "code",
   "execution_count": 1,
   "id": "e7c0bfaa-2447-4822-b908-bebc3e5918c4",
   "metadata": {},
   "outputs": [],
   "source": [
    "import pandas as pd\n",
    "import numpy as np\n",
    "import os"
   ]
  },
  {
   "cell_type": "code",
   "execution_count": 2,
   "id": "c6bb4440-0d05-44bd-a9c5-d6883ff521a0",
   "metadata": {},
   "outputs": [],
   "source": [
    "path = r'C:\\Users\\artoe\\Documents\\DataAnalytics\\Data Immersion\\Exercises\\Achievement 4\\Instacart Basket Analysis'"
   ]
  },
  {
   "cell_type": "code",
   "execution_count": 3,
   "id": "6097da07-4271-40ad-bc9e-2451c52de2a3",
   "metadata": {},
   "outputs": [],
   "source": [
    "ords_prods_customers = pd.read_pickle(os.path.join(path, '02 Data', 'Prepared Data', 'ords_prods_customers.pkl'))"
   ]
  },
  {
   "cell_type": "code",
   "execution_count": 4,
   "id": "7c9307c6-7fae-4a77-aeac-d7bcd362cbbe",
   "metadata": {},
   "outputs": [
    {
     "data": {
      "text/plain": [
       "<bound method DataFrame.info of           order_id  user_id eval_set  order_number  orders_day_of_week  \\\n",
       "0          2539329        1    prior             1                   2   \n",
       "1          2539329        1    prior             1                   2   \n",
       "2          2539329        1    prior             1                   2   \n",
       "3          2539329        1    prior             1                   2   \n",
       "4          2539329        1    prior             1                   2   \n",
       "...            ...      ...      ...           ...                 ...   \n",
       "32399727   2977660   206209    prior            13                   1   \n",
       "32399728   2977660   206209    prior            13                   1   \n",
       "32399729   2977660   206209    prior            13                   1   \n",
       "32399730   2977660   206209    prior            13                   1   \n",
       "32399731   2977660   206209    prior            13                   1   \n",
       "\n",
       "          order_hour_of_day  days_since_prior_order  product_id  \\\n",
       "0                         8                     NaN         196   \n",
       "1                         8                     NaN       14084   \n",
       "2                         8                     NaN       12427   \n",
       "3                         8                     NaN       26088   \n",
       "4                         8                     NaN       26405   \n",
       "...                     ...                     ...         ...   \n",
       "32399727                 12                     7.0       14197   \n",
       "32399728                 12                     7.0       38730   \n",
       "32399729                 12                     7.0       31477   \n",
       "32399730                 12                     7.0        6567   \n",
       "32399731                 12                     7.0       22920   \n",
       "\n",
       "          add_to_cart_order  reordered  ...  surname  gender    state  age  \\\n",
       "0                         1          0  ...   Nguyen  Female  Alabama   31   \n",
       "1                         2          0  ...   Nguyen  Female  Alabama   31   \n",
       "2                         3          0  ...   Nguyen  Female  Alabama   31   \n",
       "3                         4          0  ...   Nguyen  Female  Alabama   31   \n",
       "4                         5          0  ...   Nguyen  Female  Alabama   31   \n",
       "...                     ...        ...  ...      ...     ...      ...  ...   \n",
       "32399727                  5          1  ...  Donovan  Female     Iowa   74   \n",
       "32399728                  6          0  ...  Donovan  Female     Iowa   74   \n",
       "32399729                  7          0  ...  Donovan  Female     Iowa   74   \n",
       "32399730                  8          0  ...  Donovan  Female     Iowa   74   \n",
       "32399731                  9          0  ...  Donovan  Female     Iowa   74   \n",
       "\n",
       "         date_joined n_dependants fam_status  income _merge   region  \n",
       "0          2/17/2019            3    married   40423   both    South  \n",
       "1          2/17/2019            3    married   40423   both    South  \n",
       "2          2/17/2019            3    married   40423   both    South  \n",
       "3          2/17/2019            3    married   40423   both    South  \n",
       "4          2/17/2019            3    married   40423   both    South  \n",
       "...              ...          ...        ...     ...    ...      ...  \n",
       "32399727   9/14/2019            3    married  137969   both  Midwest  \n",
       "32399728   9/14/2019            3    married  137969   both  Midwest  \n",
       "32399729   9/14/2019            3    married  137969   both  Midwest  \n",
       "32399730   9/14/2019            3    married  137969   both  Midwest  \n",
       "32399731   9/14/2019            3    married  137969   both  Midwest  \n",
       "\n",
       "[30959687 rows x 37 columns]>"
      ]
     },
     "execution_count": 4,
     "metadata": {},
     "output_type": "execute_result"
    }
   ],
   "source": [
    "ords_prods_customers.info"
   ]
  },
  {
   "cell_type": "code",
   "execution_count": 5,
   "id": "23db0e7f-b15e-4725-8af6-23690601f683",
   "metadata": {},
   "outputs": [],
   "source": [
    "#found a column (n_dependants) that requires a name change (spelling and format)\n",
    "ords_prods_customers.rename(columns = {'n_dependants' : 'number_of_dependents'}, inplace = True)"
   ]
  },
  {
   "cell_type": "code",
   "execution_count": 6,
   "id": "555080ce-7bce-457e-bd65-771eeb958b83",
   "metadata": {},
   "outputs": [
    {
     "data": {
      "text/plain": [
       "order_id                         int64\n",
       "user_id                          int64\n",
       "eval_set                        object\n",
       "order_number                     int64\n",
       "orders_day_of_week               int64\n",
       "order_hour_of_day                int64\n",
       "days_since_prior_order         float64\n",
       "product_id                       int64\n",
       "add_to_cart_order                int64\n",
       "reordered                        int64\n",
       "product_name                    object\n",
       "aisle_id                         int64\n",
       "department_id                    int64\n",
       "prices                         float64\n",
       "match                         category\n",
       "price_range_loc                 object\n",
       "busiest_day                     object\n",
       "busiest_days                    object\n",
       "busiest_period_of_day           object\n",
       "max_order                        int64\n",
       "loyalty_flag                    object\n",
       "avg_prod_price                 float64\n",
       "spending_flag                   object\n",
       "avg_days_since_prior_order     float64\n",
       "orderfreq_flag                  object\n",
       "Unnamed: 0                       int64\n",
       "first_name                      object\n",
       "surname                         object\n",
       "gender                          object\n",
       "state                           object\n",
       "age                              int64\n",
       "date_joined                     object\n",
       "number_of_dependents             int64\n",
       "fam_status                      object\n",
       "income                           int64\n",
       "_merge                        category\n",
       "region                          object\n",
       "dtype: object"
      ]
     },
     "execution_count": 6,
     "metadata": {},
     "output_type": "execute_result"
    }
   ],
   "source": [
    "ords_prods_customers.dtypes"
   ]
  },
  {
   "cell_type": "code",
   "execution_count": 7,
   "id": "d4e9caa4-24f8-439c-a97c-382311f9b500",
   "metadata": {},
   "outputs": [],
   "source": [
    "#dropping unnecessary columns\n",
    "ords_prods_customers.drop(columns=['Unnamed: 0'], inplace=True)"
   ]
  },
  {
   "cell_type": "code",
   "execution_count": 8,
   "id": "286c1217-258a-4c04-a4b6-103b61020e03",
   "metadata": {},
   "outputs": [],
   "source": [
    "ords_prods_customers.drop(columns=['match'], inplace=True)"
   ]
  },
  {
   "cell_type": "code",
   "execution_count": 9,
   "id": "4fc40a8d-9d4c-4096-afdc-9faf6dc4b86b",
   "metadata": {},
   "outputs": [],
   "source": [
    "ords_prods_customers.drop(columns=['_merge'], inplace=True)"
   ]
  },
  {
   "cell_type": "code",
   "execution_count": 10,
   "id": "05d8d031-df2e-43ff-9c2a-ece8aad1ebbc",
   "metadata": {},
   "outputs": [],
   "source": [
    "ords_prods_customers.drop(columns=['eval_set'], inplace=True)"
   ]
  },
  {
   "cell_type": "code",
   "execution_count": 11,
   "id": "cf42e8e6-80a7-43c6-b7b0-f49bdd7d6b9e",
   "metadata": {},
   "outputs": [
    {
     "data": {
      "text/plain": [
       "order_id                        int64\n",
       "user_id                         int64\n",
       "order_number                    int64\n",
       "orders_day_of_week              int64\n",
       "order_hour_of_day               int64\n",
       "days_since_prior_order        float64\n",
       "product_id                      int64\n",
       "add_to_cart_order               int64\n",
       "reordered                       int64\n",
       "product_name                   object\n",
       "aisle_id                        int64\n",
       "department_id                   int64\n",
       "prices                        float64\n",
       "price_range_loc                object\n",
       "busiest_day                    object\n",
       "busiest_days                   object\n",
       "busiest_period_of_day          object\n",
       "max_order                       int64\n",
       "loyalty_flag                   object\n",
       "avg_prod_price                float64\n",
       "spending_flag                  object\n",
       "avg_days_since_prior_order    float64\n",
       "orderfreq_flag                 object\n",
       "first_name                     object\n",
       "surname                        object\n",
       "gender                         object\n",
       "state                          object\n",
       "age                             int64\n",
       "date_joined                    object\n",
       "number_of_dependents            int64\n",
       "fam_status                     object\n",
       "income                          int64\n",
       "region                         object\n",
       "dtype: object"
      ]
     },
     "execution_count": 11,
     "metadata": {},
     "output_type": "execute_result"
    }
   ],
   "source": [
    "ords_prods_customers.dtypes"
   ]
  },
  {
   "cell_type": "code",
   "execution_count": 12,
   "id": "7669d12f-8900-4b84-86d8-cba720dca3de",
   "metadata": {},
   "outputs": [],
   "source": [
    "#overwriting previous pkl file to save space\n",
    "ords_prods_customers.to_pickle(os.path.join(path, '02 Data','Prepared Data', 'ords_prods_customers.pkl'))"
   ]
  },
  {
   "cell_type": "code",
   "execution_count": null,
   "id": "a1df9a11-dd5a-47c0-aa67-5e4aa54d2015",
   "metadata": {},
   "outputs": [],
   "source": []
  }
 ],
 "metadata": {
  "kernelspec": {
   "display_name": "Python 3 (ipykernel)",
   "language": "python",
   "name": "python3"
  },
  "language_info": {
   "codemirror_mode": {
    "name": "ipython",
    "version": 3
   },
   "file_extension": ".py",
   "mimetype": "text/x-python",
   "name": "python",
   "nbconvert_exporter": "python",
   "pygments_lexer": "ipython3",
   "version": "3.12.7"
  }
 },
 "nbformat": 4,
 "nbformat_minor": 5
}
