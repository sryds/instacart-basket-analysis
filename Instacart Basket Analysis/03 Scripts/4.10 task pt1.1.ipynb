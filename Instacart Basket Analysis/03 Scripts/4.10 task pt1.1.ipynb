{
 "cells": [
  {
   "cell_type": "markdown",
   "id": "fb50d458-3a7a-4ba4-9f0c-684ddf3e6b8a",
   "metadata": {},
   "source": [
    "## Task 4.10, pt.1 - Table of Contents"
   ]
  },
  {
   "cell_type": "markdown",
   "id": "8c99b697-6f33-41ff-9d31-a3e48b0656f0",
   "metadata": {},
   "source": [
    "#### Part 1.1\n",
    "\n",
    "#### Import libraries, assign path and import dataset\n",
    "##### Import Python libraries, assign path and import main dataset\n",
    "#### Address possible security implications\n",
    "#### Create a regional segmentation column\n",
    "##### Determine and visualize spending differences between regions\n",
    "#### Create exclusion flag for low-activity customers\n",
    "##### Drop low-activity customer data from main dataset\n",
    "\n",
    "#### Part 1.2\n",
    "\n",
    "#### Import libraries, assign path and import updated dataset\n",
    "#### Customer Profiles\n",
    "##### Creating and visualizing customer profiles\n",
    "##### Importing and joining product department information to main dataset\n",
    "#### Comparing and visualizing order habits across customer profiles\n",
    "##### For each customer profile, finding and visualizing the following information:\n",
    "##### Product department choice, time and day of orders, expenditure level and order frequency.\n",
    "#### Aggregating minimum, maximum and mean values of expenditure and order frequency for each customer profile\n",
    "#### Visualizing the regional distribution of customer profiles\n",
    "#### Additional visualizations"
   ]
  },
  {
   "cell_type": "markdown",
   "id": "45e6b42c-68a9-44ca-89a6-5a13c5000807",
   "metadata": {},
   "source": [
    "### Import libaries, assign path and import dataset"
   ]
  },
  {
   "cell_type": "code",
   "execution_count": 1,
   "id": "406c0afd-dd7c-49b0-b0b9-feca4d9a942d",
   "metadata": {},
   "outputs": [],
   "source": [
    "#import python libraries\n",
    "import pandas as pd\n",
    "import numpy as np\n",
    "import os\n",
    "import matplotlib.pyplot as plt\n",
    "import seaborn as sns\n",
    "import scipy"
   ]
  },
  {
   "cell_type": "code",
   "execution_count": 3,
   "id": "c7d8a553-f302-4954-997f-a9019c22358e",
   "metadata": {},
   "outputs": [],
   "source": [
    "#assign path\n",
    "path = r'C:\\Users\\artoe\\Documents\\DataAnalytics\\Data Immersion\\Exercises\\Achievement 4\\Instacart Basket Analysis'"
   ]
  },
  {
   "cell_type": "code",
   "execution_count": 5,
   "id": "61967512-88d8-4a31-8b14-8f3d8cc1f572",
   "metadata": {},
   "outputs": [],
   "source": [
    "#import ords_prods_customers data set\n",
    "ords_prods_customers = pd.read_pickle(os.path.join(path, '02 Data', 'Prepared Data', 'ords_prods_customers.pkl'))"
   ]
  },
  {
   "cell_type": "code",
   "execution_count": 12,
   "id": "d3cecbb6-6cc0-4112-a503-1d79a1cd527c",
   "metadata": {},
   "outputs": [
    {
     "data": {
      "text/plain": [
       "order_id                         int64\n",
       "user_id                          int64\n",
       "eval_set                        object\n",
       "order_number                     int64\n",
       "orders_day_of_week               int64\n",
       "order_hour_of_day                int64\n",
       "days_since_prior_order         float64\n",
       "product_id                       int64\n",
       "add_to_cart_order                int64\n",
       "reordered                        int64\n",
       "product_name                    object\n",
       "aisle_id                         int64\n",
       "department_id                    int64\n",
       "prices                         float64\n",
       "match                         category\n",
       "price_range_loc                 object\n",
       "busiest_day                     object\n",
       "busiest_days                    object\n",
       "busiest_period_of_day           object\n",
       "max_order                        int64\n",
       "loyalty_flag                    object\n",
       "avg_prod_price                 float64\n",
       "spending_flag                   object\n",
       "avg_days_since_prior_order     float64\n",
       "orderfreq_flag                  object\n",
       "Unnamed: 0                       int64\n",
       "first_name                      object\n",
       "surname                         object\n",
       "gender                          object\n",
       "state                           object\n",
       "age                              int64\n",
       "date_joined                     object\n",
       "n_dependants                     int64\n",
       "fam_status                      object\n",
       "income                           int64\n",
       "_merge                        category\n",
       "dtype: object"
      ]
     },
     "execution_count": 12,
     "metadata": {},
     "output_type": "execute_result"
    }
   ],
   "source": [
    "ords_prods_customers.dtypes"
   ]
  },
  {
   "cell_type": "code",
   "execution_count": 13,
   "id": "4cb56936-5d42-41e7-91b7-4ed1faba9a63",
   "metadata": {},
   "outputs": [
    {
     "data": {
      "text/plain": [
       "(32399732, 36)"
      ]
     },
     "execution_count": 13,
     "metadata": {},
     "output_type": "execute_result"
    }
   ],
   "source": [
    "ords_prods_customers.shape"
   ]
  },
  {
   "cell_type": "markdown",
   "id": "d8d2bd4f-f374-4d4b-9ec8-dfc23d9c8576",
   "metadata": {},
   "source": [
    "### Possible Security Implications\n",
    "\n",
    "This dataset does contain information about users that could be considered personally-identifiable information (PII), such as first and last names, age, marital status and state of residence. \n",
    "However, it is worth noting that the user information as well as the prices contained in this dataset are completely fictional. "
   ]
  },
  {
   "cell_type": "markdown",
   "id": "fa7f00b1-020a-41dc-b598-d1fe4e9bdbc2",
   "metadata": {},
   "source": [
    "### Creating a Region column that sorts customer data by region"
   ]
  },
  {
   "cell_type": "code",
   "execution_count": 16,
   "id": "0a361a16-a114-4890-813d-20a49e16db79",
   "metadata": {},
   "outputs": [],
   "source": [
    "#create a for-loop that labels values in the state column based on the region they belong to"
   ]
  },
  {
   "cell_type": "code",
   "execution_count": 17,
   "id": "e4850c4b-7761-4c98-b285-ebf719a5f9ff",
   "metadata": {},
   "outputs": [],
   "source": [
    "result = []\n",
    "\n",
    "for value in ords_prods_customers[\"state\"]:\n",
    "  if value in ['Maine', 'New Hampshire', 'Vermont', 'Massachusetts', 'Rhode Island', 'Connecticut', 'New York', 'Pennsylvania', 'New Jersey']:\n",
    "    result.append(\"Northeast\")\n",
    "  elif value in ['Wisconsin', 'Michigan', 'Illinois', 'Indiana', 'Ohio', 'North Dakota', 'South Dakota', 'Nebraska', 'Kansas', 'Minnesota', 'Iowa', 'Missouri']:\n",
    "    result.append(\"Midwest\")\n",
    "  elif value in ['Delaware', 'Maryland', 'District of Columbia', 'Virginia', 'West Virginia', 'North Carolina', 'South Carolina', 'Georgia', 'Florida', 'Kentucky', 'Tennessee', 'Mississippi', 'Alabama', 'Oklahoma', 'Texas', 'Arkansas', 'Louisiana']:\n",
    "    result.append(\"South\")\n",
    "  else:\n",
    "    result.append(\"West\")"
   ]
  },
  {
   "cell_type": "code",
   "execution_count": 18,
   "id": "fa78b790-381b-4148-ae2e-7194a315ed97",
   "metadata": {},
   "outputs": [],
   "source": [
    "#create new column based on result of for-loop\n",
    "ords_prods_customers['region'] = result"
   ]
  },
  {
   "cell_type": "code",
   "execution_count": 70,
   "id": "e91c8ed2-91c8-4070-b620-7d613877896a",
   "metadata": {},
   "outputs": [
    {
     "data": {
      "text/plain": [
       "region\n",
       "South        10309442\n",
       "West          7926057\n",
       "Midwest       7260306\n",
       "Northeast     5463882\n",
       "Name: count, dtype: int64"
      ]
     },
     "execution_count": 70,
     "metadata": {},
     "output_type": "execute_result"
    }
   ],
   "source": [
    "ords_prods_customers['region'].value_counts()"
   ]
  },
  {
   "cell_type": "markdown",
   "id": "6d9a3a82-75ed-438f-9c64-afd4042f8956",
   "metadata": {},
   "source": [
    "#### Determine the difference in spending habits between regions"
   ]
  },
  {
   "cell_type": "code",
   "execution_count": 20,
   "id": "53fb0cde-79c9-4591-ac1c-f4c6fa00e6a1",
   "metadata": {},
   "outputs": [],
   "source": [
    "#create a crosstab for the spending_flag and region columns\n",
    "crosstab = pd.crosstab(ords_prods_customers['spending_flag'], ords_prods_customers['region'], dropna = False)"
   ]
  },
  {
   "cell_type": "code",
   "execution_count": 21,
   "id": "0eef2de0-fdc7-4035-b6cd-ffcc678c0d2b",
   "metadata": {},
   "outputs": [
    {
     "data": {
      "text/html": [
       "<div>\n",
       "<style scoped>\n",
       "    .dataframe tbody tr th:only-of-type {\n",
       "        vertical-align: middle;\n",
       "    }\n",
       "\n",
       "    .dataframe tbody tr th {\n",
       "        vertical-align: top;\n",
       "    }\n",
       "\n",
       "    .dataframe thead th {\n",
       "        text-align: right;\n",
       "    }\n",
       "</style>\n",
       "<table border=\"1\" class=\"dataframe\">\n",
       "  <thead>\n",
       "    <tr style=\"text-align: right;\">\n",
       "      <th>region</th>\n",
       "      <th>Midwest</th>\n",
       "      <th>Northeast</th>\n",
       "      <th>South</th>\n",
       "      <th>West</th>\n",
       "    </tr>\n",
       "    <tr>\n",
       "      <th>spending_flag</th>\n",
       "      <th></th>\n",
       "      <th></th>\n",
       "      <th></th>\n",
       "      <th></th>\n",
       "    </tr>\n",
       "  </thead>\n",
       "  <tbody>\n",
       "    <tr>\n",
       "      <th>High spender</th>\n",
       "      <td>154715</td>\n",
       "      <td>107381</td>\n",
       "      <td>207902</td>\n",
       "      <td>159120</td>\n",
       "    </tr>\n",
       "    <tr>\n",
       "      <th>Low spender</th>\n",
       "      <td>7441350</td>\n",
       "      <td>5614511</td>\n",
       "      <td>10582194</td>\n",
       "      <td>8132559</td>\n",
       "    </tr>\n",
       "  </tbody>\n",
       "</table>\n",
       "</div>"
      ],
      "text/plain": [
       "region         Midwest  Northeast     South     West\n",
       "spending_flag                                       \n",
       "High spender    154715     107381    207902   159120\n",
       "Low spender    7441350    5614511  10582194  8132559"
      ]
     },
     "execution_count": 21,
     "metadata": {},
     "output_type": "execute_result"
    }
   ],
   "source": [
    "crosstab"
   ]
  },
  {
   "cell_type": "code",
   "execution_count": 22,
   "id": "194f3b64-06d0-41bb-8485-3699819770d1",
   "metadata": {},
   "outputs": [
    {
     "data": {
      "text/html": [
       "<div>\n",
       "<style scoped>\n",
       "    .dataframe tbody tr th:only-of-type {\n",
       "        vertical-align: middle;\n",
       "    }\n",
       "\n",
       "    .dataframe tbody tr th {\n",
       "        vertical-align: top;\n",
       "    }\n",
       "\n",
       "    .dataframe thead th {\n",
       "        text-align: right;\n",
       "    }\n",
       "</style>\n",
       "<table border=\"1\" class=\"dataframe\">\n",
       "  <thead>\n",
       "    <tr style=\"text-align: right;\">\n",
       "      <th>spending_flag</th>\n",
       "      <th>High spender</th>\n",
       "      <th>Low spender</th>\n",
       "    </tr>\n",
       "    <tr>\n",
       "      <th>region</th>\n",
       "      <th></th>\n",
       "      <th></th>\n",
       "    </tr>\n",
       "  </thead>\n",
       "  <tbody>\n",
       "    <tr>\n",
       "      <th>Midwest</th>\n",
       "      <td>154715</td>\n",
       "      <td>7441350</td>\n",
       "    </tr>\n",
       "    <tr>\n",
       "      <th>Northeast</th>\n",
       "      <td>107381</td>\n",
       "      <td>5614511</td>\n",
       "    </tr>\n",
       "    <tr>\n",
       "      <th>South</th>\n",
       "      <td>207902</td>\n",
       "      <td>10582194</td>\n",
       "    </tr>\n",
       "    <tr>\n",
       "      <th>West</th>\n",
       "      <td>159120</td>\n",
       "      <td>8132559</td>\n",
       "    </tr>\n",
       "  </tbody>\n",
       "</table>\n",
       "</div>"
      ],
      "text/plain": [
       "spending_flag  High spender  Low spender\n",
       "region                                  \n",
       "Midwest              154715      7441350\n",
       "Northeast            107381      5614511\n",
       "South                207902     10582194\n",
       "West                 159120      8132559"
      ]
     },
     "execution_count": 22,
     "metadata": {},
     "output_type": "execute_result"
    }
   ],
   "source": [
    "crosstab.T"
   ]
  },
  {
   "cell_type": "code",
   "execution_count": 23,
   "id": "2d29eff0-0e31-456b-b906-928610aa16b4",
   "metadata": {},
   "outputs": [],
   "source": [
    "crosstab_t = crosstab.T"
   ]
  },
  {
   "cell_type": "code",
   "execution_count": 24,
   "id": "991a27bf-e7c9-4cd6-8ec4-1009bec8e82b",
   "metadata": {},
   "outputs": [
    {
     "data": {
      "text/plain": [
       "(array([0, 1, 2, 3]),\n",
       " [Text(0, 0, 'Midwest'),\n",
       "  Text(1, 0, 'Northeast'),\n",
       "  Text(2, 0, 'South'),\n",
       "  Text(3, 0, 'West')])"
      ]
     },
     "execution_count": 24,
     "metadata": {},
     "output_type": "execute_result"
    },
    {
     "data": {
      "image/png": "[encoded data removed]",
      "text/plain": [
       "<Figure size 640x480 with 1 Axes>"
      ]
     },
     "metadata": {},
     "output_type": "display_data"
    }
   ],
   "source": [
    "#create bar chart showing number of high vs low spenders in each region\n",
    "region_spend_bar = crosstab_t.plot.bar()\n",
    "plt.xticks(rotation=45)"
   ]
  },
  {
   "cell_type": "markdown",
   "id": "5ef14372-524f-4aa3-b83c-4d0af3d2a443",
   "metadata": {},
   "source": [
    "We can already see that the number of low spenders is much higher across all regions. The South contains the largest overall number of customers and therefore has the highest number of both high and low spenders. To better understand the connection between region and spending habits, we must find the percentage of customers by spending habits."
   ]
  },
  {
   "cell_type": "code",
   "execution_count": 26,
   "id": "f58bb344-085b-4752-99a6-51bc18894b2d",
   "metadata": {},
   "outputs": [],
   "source": [
    "region_spend_bar.figure.savefig(os.path.join(path, '04 Analysis','Visualizations', 'region_spend_bar.png'))"
   ]
  },
  {
   "cell_type": "code",
   "execution_count": 27,
   "id": "af7cbf99-65e2-42dc-9d8d-3fc496a71af0",
   "metadata": {},
   "outputs": [],
   "source": [
    "crosstab_t.to_clipboard()"
   ]
  },
  {
   "cell_type": "code",
   "execution_count": 28,
   "id": "bc4064e2-3997-4565-930a-cde4b29937cd",
   "metadata": {},
   "outputs": [],
   "source": [
    "#transposed the crosstab results to make it easier to get the ratio of high to low spenders"
   ]
  },
  {
   "cell_type": "markdown",
   "id": "ea604abb-f30f-4858-8940-ac6729ab3e3d",
   "metadata": {},
   "source": [
    "In Excel, I calculated that the Midwest region has the highest percentage of high spenders (2.05%) and the Northeast has the lowest (1.89%)."
   ]
  },
  {
   "cell_type": "markdown",
   "id": "15d91ae4-7ea9-4e15-b464-8dd9f4b3a173",
   "metadata": {},
   "source": [
    "### Create exclusion flag for customers with less than 5 orders"
   ]
  },
  {
   "cell_type": "code",
   "execution_count": 31,
   "id": "a7356d05-b691-4955-8756-1ab638d8a6d8",
   "metadata": {},
   "outputs": [],
   "source": [
    "#flag customers to be excluded (with less than 5 orders)\n",
    "ords_prods_customers.loc[ords_prods_customers['max_order'] < 5, 'low_activity_excl_flag'] = 'Exclude'"
   ]
  },
  {
   "cell_type": "code",
   "execution_count": 32,
   "id": "90d63f98-bb41-4523-bb47-c85603ad774b",
   "metadata": {},
   "outputs": [],
   "source": [
    "#flag customers with 5 or more orders\n",
    "ords_prods_customers.loc[ords_prods_customers['max_order'] >= 5, 'low_activity_excl_flag'] = 'Keep'"
   ]
  },
  {
   "cell_type": "code",
   "execution_count": 33,
   "id": "11dc2acf-03e6-4769-a0fb-ec2a244fbf75",
   "metadata": {},
   "outputs": [
    {
     "data": {
      "text/plain": [
       "low_activity_excl_flag\n",
       "Keep       30959687\n",
       "Exclude     1440045\n",
       "Name: count, dtype: int64"
      ]
     },
     "execution_count": 33,
     "metadata": {},
     "output_type": "execute_result"
    }
   ],
   "source": [
    "#check counts of flagged customers\n",
    "ords_prods_customers['low_activity_excl_flag'].value_counts()"
   ]
  },
  {
   "cell_type": "code",
   "execution_count": 34,
   "id": "30bf8e12-e354-4510-887e-2c42a046dda8",
   "metadata": {},
   "outputs": [],
   "source": [
    "#check results of exclusion flag in excel\n",
    "crosstab_excl_flag = pd.crosstab(ords_prods_customers['max_order'], ords_prods_customers['low_activity_excl_flag'], dropna=False)"
   ]
  },
  {
   "cell_type": "code",
   "execution_count": 35,
   "id": "4b4d1d1b-4fc5-40f3-b029-832cdad5bfea",
   "metadata": {},
   "outputs": [],
   "source": [
    "crosstab_excl_flag.to_clipboard()"
   ]
  },
  {
   "cell_type": "code",
   "execution_count": 36,
   "id": "12df48bc-ce30-4b72-8e6a-d6d2d134591e",
   "metadata": {},
   "outputs": [],
   "source": [
    "#confirmed in excel that all rows with max_order under 5 are labelled 'Exclude'"
   ]
  },
  {
   "cell_type": "markdown",
   "id": "c9895377-0393-4269-97c4-4ea3a2c21783",
   "metadata": {},
   "source": [
    "#### Drop low-activity customers from main dataframe, save low-activity customer data separately"
   ]
  },
  {
   "cell_type": "code",
   "execution_count": 38,
   "id": "d6925bd1-3c23-4369-a8bf-2c398c46b128",
   "metadata": {},
   "outputs": [],
   "source": [
    "#create separate dataframe for customers to be excluded\n",
    "ords_prods_customers_low_activity = ords_prods_customers[ords_prods_customers['low_activity_excl_flag'] == 'Exclude']"
   ]
  },
  {
   "cell_type": "code",
   "execution_count": 39,
   "id": "52d1da88-5987-48da-a606-2eb27fb4cda6",
   "metadata": {},
   "outputs": [],
   "source": [
    "#export excluded customers data\n",
    "ords_prods_customers_low_activity.to_pickle(os.path.join(path, '02 Data','Prepared Data', 'ords_prods_customers_to_exclude.pkl'))"
   ]
  },
  {
   "cell_type": "code",
   "execution_count": 40,
   "id": "8a733350-56f6-414c-bbab-15382287522f",
   "metadata": {},
   "outputs": [],
   "source": [
    "#update main dataframe to drop excluded customer data\n",
    "ords_prods_customers = ords_prods_customers[ords_prods_customers['low_activity_excl_flag'] == 'Keep']"
   ]
  },
  {
   "cell_type": "code",
   "execution_count": 41,
   "id": "4fb38807-89dc-48c4-ba35-f01885732c4f",
   "metadata": {},
   "outputs": [],
   "source": [
    "#drop low activity flag column from main dataframe\n",
    "ords_prods_customers.drop(columns = ['low_activity_excl_flag'], inplace=True)"
   ]
  },
  {
   "cell_type": "code",
   "execution_count": 42,
   "id": "b236cd43-89e0-4c77-917d-e76f5c0423d4",
   "metadata": {},
   "outputs": [],
   "source": [
    "#export updated main dataframe to pkl\n",
    "ords_prods_customers.to_pickle(os.path.join(path, '02 Data','Prepared Data', 'ords_prods_customers.pkl'))"
   ]
  }
 ],
 "metadata": {
  "kernelspec": {
   "display_name": "Python 3 (ipykernel)",
   "language": "python",
   "name": "python3"
  },
  "language_info": {
   "codemirror_mode": {
    "name": "ipython",
    "version": 3
   },
   "file_extension": ".py",
   "mimetype": "text/x-python",
   "name": "python",
   "nbconvert_exporter": "python",
   "pygments_lexer": "ipython3",
   "version": "3.12.7"
  }
 },
 "nbformat": 4,
 "nbformat_minor": 5
}
